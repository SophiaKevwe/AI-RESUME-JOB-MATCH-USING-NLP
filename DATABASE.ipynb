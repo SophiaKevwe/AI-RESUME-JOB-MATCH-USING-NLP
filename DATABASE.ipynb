{
 "cells": [
  {
   "cell_type": "code",
   "execution_count": 1,
   "id": "f12fb5fd-a719-4609-a8c2-f09d7463d118",
   "metadata": {},
   "outputs": [],
   "source": [
    "import mysql.connector\n",
    "from getpass import getpass\n",
    "from mysql.connector import connect, Error\n",
    "username=\"kevwe\"\n",
    "password=\"umukoro3056#\""
   ]
  },
  {
   "cell_type": "code",
   "execution_count": 3,
   "id": "37061259-1369-4084-9c81-b073bfc7b8bc",
   "metadata": {},
   "outputs": [],
   "source": [
    "def create_connection():\n",
    "    try:\n",
    "        connection = mysql.connector.connect(\n",
    "            host=\"localhost\",\n",
    "            user=username,\n",
    "            password=password,\n",
    "            database=\"resume_job_files\"\n",
    "        )\n",
    "        if connection.is_connected():\n",
    "            print(\"Connection successful\")\n",
    "            return connection\n",
    "    except Error as e:\n",
    "        print(f\"Error: '{e}'\")\n",
    "        return None"
   ]
  },
  {
   "cell_type": "code",
   "execution_count": 4,
   "id": "0f0f8a3e-35f5-4483-9a2c-b1634daaf63f",
   "metadata": {},
   "outputs": [],
   "source": [
    "def close_connection(connection):\n",
    "    if connection.is_connected():\n",
    "        connection.close()\n",
    "        print(\"Connection closed\")"
   ]
  },
  {
   "cell_type": "markdown",
   "id": "4bef2652-c18f-4e28-8e69-cf66b427dcf1",
   "metadata": {},
   "source": [
    "## CREATES A NEW DATABASE"
   ]
  },
  {
   "cell_type": "code",
   "execution_count": 7,
   "id": "03009789-ff6b-4cbb-a1b2-0502a2782cbc",
   "metadata": {},
   "outputs": [
    {
     "name": "stdout",
     "output_type": "stream",
     "text": [
      "1007 (HY000): Can't create database 'resume_job_files'; database exists\n"
     ]
    }
   ],
   "source": [
    "def create_database():\n",
    "    connection = create_connection()\n",
    "    create_db = \"CREATE DATABASE resume_job_files\"\n",
    "    if connection:\n",
    "        with connection.cursor() as cursor:\n",
    "            cursor.execute(create_db)\n",
    "        close_connection(connection)"
   ]
  },
  {
   "cell_type": "markdown",
   "id": "90974612-d4d4-4b03-b8f3-544ef6e12fa9",
   "metadata": {},
   "source": [
    "## SHOWS DATABASES"
   ]
  },
  {
   "cell_type": "code",
   "execution_count": 14,
   "id": "c9ae9820-21c6-4411-81b0-30f46bda6385",
   "metadata": {},
   "outputs": [
    {
     "name": "stdout",
     "output_type": "stream",
     "text": [
      "Connection successful\n",
      "('information_schema',)\n",
      "('mysql',)\n",
      "('performance_schema',)\n",
      "('resume_job_files',)\n",
      "('sakila',)\n",
      "('sys',)\n",
      "('world',)\n",
      "Connection closed\n"
     ]
    }
   ],
   "source": [
    "def show_databases():\n",
    "    connection = create_connection()\n",
    "    show_db_query = \"SHOW DATABASES\"\n",
    "    if connection:\n",
    "        with connection.cursor() as cursor:\n",
    "            cursor.execute(show_db_query)\n",
    "            for db in cursor:\n",
    "                print(db)\n",
    "        close_connection(connection)\n",
    "\n",
    "show_databases()"
   ]
  },
  {
   "cell_type": "markdown",
   "id": "1d1d2083-86cb-4678-9884-2eedc2497214",
   "metadata": {},
   "source": [
    "## CONNECTING TO AN EXISTING DATABASE"
   ]
  },
  {
   "cell_type": "code",
   "execution_count": 15,
   "id": "f26d90c6-7413-4d5b-a5b0-f338f80b74f2",
   "metadata": {},
   "outputs": [],
   "source": [
    "# try:\n",
    "#     with mysql.connector.connect(\n",
    "#         host=\"localhost\",\n",
    "#         user = username,\n",
    "#         password = password,\n",
    "#         database= 'resume_job_files',\n",
    "#     ) as connection:\n",
    "#         print(connection)\n",
    "# except Error as e:\n",
    "#     print(e)"
   ]
  },
  {
   "cell_type": "markdown",
   "id": "4d3c45d9-66cd-45b3-8be3-cb0b561e1e0e",
   "metadata": {},
   "source": [
    "## CREATING TABLES"
   ]
  },
  {
   "cell_type": "code",
   "execution_count": 7,
   "id": "735c60a6-41f2-45ce-a24f-0ae558a274ba",
   "metadata": {},
   "outputs": [],
   "source": [
    "def create_candidate_table():\n",
    "    create_candidate_table_query = \"\"\"\n",
    "    CREATE TABLE IF NOT EXISTS candidate(\n",
    "        id INT AUTO_INCREMENT PRIMARY KEY,\n",
    "        name VARCHAR(100),\n",
    "        email VARCHAR(100) UNIQUE,\n",
    "        number VARCHAR(15),\n",
    "        password VARCHAR(255),\n",
    "        resume_file LONGBLOB,\n",
    "        resume_text TEXT\n",
    "    )\n",
    "    \"\"\"\n",
    "    connection = create_connection()\n",
    "    if connection:\n",
    "        with connection.cursor() as cursor:\n",
    "            cursor.execute(create_candidate_table_query)\n",
    "            connection.commit()\n",
    "        close_connection(connection)"
   ]
  },
  {
   "cell_type": "code",
   "execution_count": 8,
   "id": "f9a23afd-c641-4028-a58c-2f5e40e203e5",
   "metadata": {},
   "outputs": [],
   "source": [
    "def create_employer_table():\n",
    "    create_employer_table_query = \"\"\"\n",
    "    CREATE TABLE IF NOT EXISTS employer(\n",
    "        id INT AUTO_INCREMENT PRIMARY KEY,\n",
    "        name VARCHAR(100),\n",
    "        email VARCHAR(100),\n",
    "        number VARCHAR(15),\n",
    "        password VARCHAR(255)\n",
    "    )\n",
    "    \"\"\"\n",
    "    connection = create_connection()\n",
    "    if connection:\n",
    "        with connection.cursor() as cursor:\n",
    "            cursor.execute(create_employer_table_query)\n",
    "            connection.commit()\n",
    "        close_connection(connection)"
   ]
  },
  {
   "cell_type": "code",
   "execution_count": 9,
   "id": "527a47a3-8a7f-40c1-8612-346ca69bdf31",
   "metadata": {},
   "outputs": [],
   "source": [
    "def create_job_table():\n",
    "    create_job_table_query = \"\"\"\n",
    "    CREATE TABLE IF NOT EXISTS job (\n",
    "        id INT AUTO_INCREMENT PRIMARY KEY,\n",
    "        title VARCHAR(100),\n",
    "        description TEXT,\n",
    "        company VARCHAR(100),\n",
    "        location VARCHAR(100),\n",
    "        category TEXT,\n",
    "        link VARCHAR(255),\n",
    "        employer_id INT,\n",
    "        FOREIGN KEY (employer_id) REFERENCES employer(id)\n",
    "    )\n",
    "    \"\"\"\n",
    "    connection = create_connection()\n",
    "    if connection:\n",
    "        with connection.cursor() as cursor:\n",
    "            cursor.execute(create_job_table_query)\n",
    "            connection.commit()\n",
    "        close_connection(connection)"
   ]
  },
  {
   "cell_type": "code",
   "execution_count": 10,
   "id": "caa01f9e-45a0-4a51-94ec-387d68a3af35",
   "metadata": {},
   "outputs": [],
   "source": [
    "def create_application_table():\n",
    "    create_application_table_query = \"\"\"\n",
    "    CREATE TABLE IF NOT EXISTS application (\n",
    "        id INT AUTO_INCREMENT PRIMARY KEY,\n",
    "        candidate_id INT,\n",
    "        job_id INT,\n",
    "        application_date DATE,\n",
    "        similarity_score FLOAT,\n",
    "        FOREIGN KEY (candidate_id) REFERENCES candidate(id),\n",
    "        FOREIGN KEY (job_id) REFERENCES job(id)\n",
    "    )\n",
    "    \"\"\"\n",
    "    connection = create_connection()\n",
    "    if connection:\n",
    "        with connection.cursor() as cursor:\n",
    "            cursor.execute(create_application_table_query)\n",
    "            connection.commit()\n",
    "        close_connection(connection)"
   ]
  },
  {
   "cell_type": "code",
   "execution_count": 12,
   "id": "f753b5f5-b728-45e9-9f25-566bbbca071c",
   "metadata": {},
   "outputs": [
    {
     "name": "stdout",
     "output_type": "stream",
     "text": [
      "Connection successful\n",
      "Connection closed\n",
      "Connection successful\n",
      "Connection closed\n",
      "Connection successful\n",
      "Connection closed\n",
      "Connection successful\n",
      "Connection closed\n"
     ]
    }
   ],
   "source": [
    "create_candidate_table()\n",
    "create_employer_table()\n",
    "create_job_table()\n",
    "create_application_table()"
   ]
  },
  {
   "cell_type": "markdown",
   "id": "950e3528-ee53-41af-821a-d7236ed4944c",
   "metadata": {},
   "source": [
    "## TABLE DESCRIPTION"
   ]
  },
  {
   "cell_type": "code",
   "execution_count": 8,
   "id": "f78d19f2-e468-45df-9d1b-f4589d365470",
   "metadata": {},
   "outputs": [
    {
     "name": "stdout",
     "output_type": "stream",
     "text": [
      "Connection successful\n",
      "('id', 'int', 'NO', 'PRI', None, 'auto_increment')\n",
      "('title', 'varchar(100)', 'YES', '', None, '')\n",
      "('description', 'text', 'YES', '', None, '')\n",
      "('company', 'varchar(100)', 'YES', '', None, '')\n",
      "('location', 'varchar(100)', 'YES', '', None, '')\n",
      "Connection closed\n"
     ]
    }
   ],
   "source": [
    "describe_job = \"DESCRIBE job\"\n",
    "connection = create_connection()\n",
    "if connection: \n",
    "    with connection.cursor() as cursor:\n",
    "        cursor.execute(describe_job)\n",
    "        jobs_schema = cursor.fetchall()\n",
    "        for column in jobs_schema:\n",
    "            print(column)\n",
    "    close_connection(connection)"
   ]
  },
  {
   "cell_type": "markdown",
   "id": "d6900ea1-a32c-44a4-bf39-de05281e39a2",
   "metadata": {},
   "source": [
    "## TABLE INSERTION"
   ]
  },
  {
   "cell_type": "code",
   "execution_count": 9,
   "id": "52a47a64-d0ad-4761-b22d-787f09b3efb3",
   "metadata": {},
   "outputs": [],
   "source": [
    "# INSERT SINGLE RECORD\n",
    "# insert_single_record = \"INSERT INTO books (id, title, author, genre, release_year)\\\n",
    "#     VALUES (%s, %s, %s, %s, %s)\"\n",
    "# single_record = (\n",
    "#     \"1\", \"Choose Yourself! Be Happy, Make Millions, Live the Dream\", \"James Altucher\", \"self-help\", \"2013\"\n",
    "#     )\n",
    "\n",
    "# # Create cursor object\n",
    "# with existing_database.cursor() as cursor:\n",
    "#     cursor.execute(insert_single_record, single_record)\n",
    "#     existing_database.commit()"
   ]
  },
  {
   "cell_type": "code",
   "execution_count": 10,
   "id": "6bab6ad8-12b6-48e3-b007-4d88fc50347e",
   "metadata": {},
   "outputs": [],
   "source": [
    "# multiple_records = [\n",
    "#     (\n",
    "#         \"2\",\n",
    "#         \"Skip the Line: The 10,000 Experiments Rule and Other Surprising Advice for Reaching Your Goals\",\n",
    "#         \"James Altucher\",\n",
    "#         \"self-help\",\n",
    "#         \"2021\"        \n",
    "#     ),\n",
    "#     (\n",
    "#         \"3\",\n",
    "#         \"The Power of No: Because One Little Word Can Bring Health, Abundance, and Happiness\",\n",
    "#         \"James Altucher\",\n",
    "#         \"self-help\",\n",
    "#         \"2014\"\n",
    "#     ),\n",
    "#     ]\n",
    "\n",
    "# with existing_database.cursor() as cursor:\n",
    "#     cursor.executemany(insert_multiple_records, multiple_records)\n",
    "#     existing_database.commit()"
   ]
  },
  {
   "cell_type": "markdown",
   "id": "d36bffc1-5b8e-474b-8891-0b5c76a4fc5c",
   "metadata": {},
   "source": [
    "## TABLE DROP"
   ]
  },
  {
   "cell_type": "code",
   "execution_count": 8,
   "id": "73f97ea3-56a6-4138-94ff-43bb41319ed8",
   "metadata": {},
   "outputs": [],
   "source": [
    "# drop_table = \"DROP TABLE IF EXISTS job\"\n",
    "# connection = create_connection()\n",
    "# if connection: \n",
    "#     with connection.cursor() as cursor:\n",
    "#         cursor.execute(drop_table)\n",
    "#         connection.commit()\n",
    "#     close_connection(connection)"
   ]
  },
  {
   "cell_type": "code",
   "execution_count": null,
   "id": "da189270-1630-475b-8201-afca49b4c1f4",
   "metadata": {},
   "outputs": [],
   "source": []
  }
 ],
 "metadata": {
  "kernelspec": {
   "display_name": "Python 3 (ipykernel)",
   "language": "python",
   "name": "python3"
  },
  "language_info": {
   "codemirror_mode": {
    "name": "ipython",
    "version": 3
   },
   "file_extension": ".py",
   "mimetype": "text/x-python",
   "name": "python",
   "nbconvert_exporter": "python",
   "pygments_lexer": "ipython3",
   "version": "3.12.3"
  }
 },
 "nbformat": 4,
 "nbformat_minor": 5
}
